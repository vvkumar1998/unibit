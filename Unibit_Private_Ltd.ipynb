{
  "nbformat": 4,
  "nbformat_minor": 0,
  "metadata": {
    "colab": {
      "provenance": []
    },
    "kernelspec": {
      "name": "python3",
      "display_name": "Python 3"
    },
    "language_info": {
      "name": "python"
    }
  },
  "cells": [
    {
      "cell_type": "code",
      "execution_count": 3,
      "metadata": {
        "colab": {
          "base_uri": "https://localhost:8080/"
        },
        "id": "BogMJwNqwcaw",
        "outputId": "27baf500-a932-4110-de92-c8509cda1b58"
      },
      "outputs": [
        {
          "output_type": "stream",
          "name": "stdout",
          "text": [
            "enter an array[1,3,2,2, - 4,-6,-2,8]\n",
            "enter target4\n",
            "First combination For 4:[[1, 3], [2, 2], [-4, 8], [-6, 2]]\n",
            "Merge Into a single array:[-6, -4, 1, 2, 2, 2, 3, 8]\n",
            "Second Combination For 8:[[-4, 1, 3, 8], [-4, 2, 2, 8], [1, 2, 2, 3], [-6, 2, 2, 2, 8], [-6, 1, 2, 3, 8]]\n"
          ]
        }
      ],
      "source": [
        "\n",
        "inp_array=eval(input('enter an array'))\n",
        "target=int(input('enter target'))\n",
        "from itertools import chain,combinations\n",
        "def func(inp_array,target):\n",
        "    t=[]\n",
        "    for i in range(len(inp_array)):\n",
        "        for j in inp_array[i+1:]:\n",
        "            if abs(inp_array[i]+j)==target:\n",
        "                t.append(sorted([inp_array[i],j]))\n",
        "    t=list(map(tuple,t))\n",
        "    t=set(t)\n",
        "    t=list(map(list,t))\n",
        "    t=sorted(t,key=lambda x:abs(x[0]))\n",
        "    t1=sorted([j for num in t for j in num])\n",
        "    double_target=target*2\n",
        "    s=[]\n",
        "    for i in range(2,len(t1)-1):\n",
        "        for j in combinations(t1,i):\n",
        "            if sum(list(j))==double_target:\n",
        "                s.append(list(j))\n",
        "    s=list(map(tuple,s))\n",
        "    s=set(s)\n",
        "    s=list(map(list,s))\n",
        "    return t,t1,s\n",
        "s1,s2,s3=func(inp_array,target)\n",
        "print(\"First combination For {}:{}\".format(target,s1))\n",
        "print(\"Merge Into a single array:{}\".format(s2))\n",
        "print(\"Second Combination For {}:{}\".format(2*target,s3))"
      ]
    },
    {
      "cell_type": "code",
      "source": [],
      "metadata": {
        "id": "Mo0SAXLNzovS"
      },
      "execution_count": null,
      "outputs": []
    }
  ]
}